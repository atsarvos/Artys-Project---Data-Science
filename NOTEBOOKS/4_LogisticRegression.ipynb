{
 "cells": [
  {
   "cell_type": "markdown",
   "metadata": {},
   "source": [
    "# Logistic Regression - (with and without L1 & L2 Regularisation)"
   ]
  },
  {
   "cell_type": "code",
   "execution_count": 1,
   "metadata": {
    "collapsed": true
   },
   "outputs": [],
   "source": [
    "# Setup Libraries\n",
    "%matplotlib inline\n",
    "import pandas as pd\n",
    "import sklearn\n",
    "import numpy as np\n",
    "import matplotlib as mpl\n",
    "import matplotlib.pyplot as plt\n",
    "plt.style.use('ggplot')"
   ]
  },
  {
   "cell_type": "code",
   "execution_count": 2,
   "metadata": {
    "collapsed": false
   },
   "outputs": [],
   "source": [
    "# Set random seed for replication\n",
    "seed = np.random.seed(12345)"
   ]
  },
  {
   "cell_type": "code",
   "execution_count": 3,
   "metadata": {
    "collapsed": false
   },
   "outputs": [
    {
     "data": {
      "text/html": [
       "<div>\n",
       "<table border=\"1\" class=\"dataframe\">\n",
       "  <thead>\n",
       "    <tr style=\"text-align: right;\">\n",
       "      <th></th>\n",
       "      <th>SeriousDlqin2yrs</th>\n",
       "      <th>RevolvingUtilizationOfUnsecuredLines</th>\n",
       "      <th>age</th>\n",
       "      <th>NumberOfTime30to59DaysPastDueNotWorse</th>\n",
       "      <th>DebtRatio</th>\n",
       "      <th>MonthlyIncome</th>\n",
       "      <th>NumberOfOpenCreditLinesAndLoans</th>\n",
       "      <th>NumberOfTimes90DaysLate</th>\n",
       "      <th>NumberRealEstateLoansOrLines</th>\n",
       "      <th>NumberOfTime60to89DaysPastDueNotWorse</th>\n",
       "      <th>NumberOfDependents</th>\n",
       "    </tr>\n",
       "    <tr>\n",
       "      <th>idx</th>\n",
       "      <th></th>\n",
       "      <th></th>\n",
       "      <th></th>\n",
       "      <th></th>\n",
       "      <th></th>\n",
       "      <th></th>\n",
       "      <th></th>\n",
       "      <th></th>\n",
       "      <th></th>\n",
       "      <th></th>\n",
       "      <th></th>\n",
       "    </tr>\n",
       "  </thead>\n",
       "  <tbody>\n",
       "    <tr>\n",
       "      <th>1</th>\n",
       "      <td>1</td>\n",
       "      <td>0.766127</td>\n",
       "      <td>45</td>\n",
       "      <td>2</td>\n",
       "      <td>0.802982</td>\n",
       "      <td>9120</td>\n",
       "      <td>13</td>\n",
       "      <td>0</td>\n",
       "      <td>6</td>\n",
       "      <td>0</td>\n",
       "      <td>2</td>\n",
       "    </tr>\n",
       "    <tr>\n",
       "      <th>2</th>\n",
       "      <td>0</td>\n",
       "      <td>0.957151</td>\n",
       "      <td>40</td>\n",
       "      <td>0</td>\n",
       "      <td>0.121876</td>\n",
       "      <td>2600</td>\n",
       "      <td>4</td>\n",
       "      <td>0</td>\n",
       "      <td>0</td>\n",
       "      <td>0</td>\n",
       "      <td>1</td>\n",
       "    </tr>\n",
       "    <tr>\n",
       "      <th>3</th>\n",
       "      <td>0</td>\n",
       "      <td>0.658180</td>\n",
       "      <td>38</td>\n",
       "      <td>1</td>\n",
       "      <td>0.085113</td>\n",
       "      <td>3042</td>\n",
       "      <td>2</td>\n",
       "      <td>1</td>\n",
       "      <td>0</td>\n",
       "      <td>0</td>\n",
       "      <td>0</td>\n",
       "    </tr>\n",
       "    <tr>\n",
       "      <th>4</th>\n",
       "      <td>0</td>\n",
       "      <td>0.233810</td>\n",
       "      <td>30</td>\n",
       "      <td>0</td>\n",
       "      <td>0.036050</td>\n",
       "      <td>3300</td>\n",
       "      <td>5</td>\n",
       "      <td>0</td>\n",
       "      <td>0</td>\n",
       "      <td>0</td>\n",
       "      <td>0</td>\n",
       "    </tr>\n",
       "    <tr>\n",
       "      <th>5</th>\n",
       "      <td>0</td>\n",
       "      <td>0.907239</td>\n",
       "      <td>49</td>\n",
       "      <td>1</td>\n",
       "      <td>0.024926</td>\n",
       "      <td>63588</td>\n",
       "      <td>7</td>\n",
       "      <td>0</td>\n",
       "      <td>1</td>\n",
       "      <td>0</td>\n",
       "      <td>0</td>\n",
       "    </tr>\n",
       "  </tbody>\n",
       "</table>\n",
       "</div>"
      ],
      "text/plain": [
       "     SeriousDlqin2yrs  RevolvingUtilizationOfUnsecuredLines  age  \\\n",
       "idx                                                                \n",
       "1                   1                              0.766127   45   \n",
       "2                   0                              0.957151   40   \n",
       "3                   0                              0.658180   38   \n",
       "4                   0                              0.233810   30   \n",
       "5                   0                              0.907239   49   \n",
       "\n",
       "     NumberOfTime30to59DaysPastDueNotWorse  DebtRatio  MonthlyIncome  \\\n",
       "idx                                                                    \n",
       "1                                        2   0.802982           9120   \n",
       "2                                        0   0.121876           2600   \n",
       "3                                        1   0.085113           3042   \n",
       "4                                        0   0.036050           3300   \n",
       "5                                        1   0.024926          63588   \n",
       "\n",
       "     NumberOfOpenCreditLinesAndLoans  NumberOfTimes90DaysLate  \\\n",
       "idx                                                             \n",
       "1                                 13                        0   \n",
       "2                                  4                        0   \n",
       "3                                  2                        1   \n",
       "4                                  5                        0   \n",
       "5                                  7                        0   \n",
       "\n",
       "     NumberRealEstateLoansOrLines  NumberOfTime60to89DaysPastDueNotWorse  \\\n",
       "idx                                                                        \n",
       "1                               6                                      0   \n",
       "2                               0                                      0   \n",
       "3                               0                                      0   \n",
       "4                               0                                      0   \n",
       "5                               1                                      0   \n",
       "\n",
       "     NumberOfDependents  \n",
       "idx                      \n",
       "1                     2  \n",
       "2                     1  \n",
       "3                     0  \n",
       "4                     0  \n",
       "5                     0  "
      ]
     },
     "execution_count": 3,
     "metadata": {},
     "output_type": "execute_result"
    }
   ],
   "source": [
    "# import the training data\n",
    "training = pd.read_csv('../DATA/training.csv',index_col= 'idx' )\n",
    "\n",
    "# view the data\n",
    "training.head()"
   ]
  },
  {
   "cell_type": "code",
   "execution_count": 4,
   "metadata": {
    "collapsed": false
   },
   "outputs": [
    {
     "name": "stdout",
     "output_type": "stream",
     "text": [
      "SeriousDlqin2yrs                         0\n",
      "RevolvingUtilizationOfUnsecuredLines     0\n",
      "age                                      0\n",
      "NumberOfTime30to59DaysPastDueNotWorse    0\n",
      "DebtRatio                                0\n",
      "MonthlyIncome                            0\n",
      "NumberOfOpenCreditLinesAndLoans          0\n",
      "NumberOfTimes90DaysLate                  0\n",
      "NumberRealEstateLoansOrLines             0\n",
      "NumberOfTime60to89DaysPastDueNotWorse    0\n",
      "NumberOfDependents                       0\n",
      "dtype: int64\n"
     ]
    }
   ],
   "source": [
    "training.describe(include='all')\n",
    "print training.isnull().sum() #ensure full dataset before continuing"
   ]
  },
  {
   "cell_type": "code",
   "execution_count": 5,
   "metadata": {
    "collapsed": false
   },
   "outputs": [],
   "source": [
    "from sklearn.linear_model import LogisticRegressionCV\n",
    "from sklearn.metrics import roc_curve, auc , roc_auc_score, confusion_matrix\n",
    "from sklearn.cross_validation import train_test_split"
   ]
  },
  {
   "cell_type": "code",
   "execution_count": 6,
   "metadata": {
    "collapsed": true
   },
   "outputs": [],
   "source": [
    "# Split the target from the input variables\n",
    "X = training.iloc[:, 1:]\n",
    "y = training.iloc[:, 0]"
   ]
  },
  {
   "cell_type": "code",
   "execution_count": 7,
   "metadata": {
    "collapsed": false
   },
   "outputs": [],
   "source": [
    "# Now, split the data into training and test sets\n",
    "X_train, X_test, y_train, y_test = train_test_split(X,y, random_state=1)"
   ]
  },
  {
   "cell_type": "code",
   "execution_count": 8,
   "metadata": {
    "collapsed": true
   },
   "outputs": [],
   "source": [
    "from sklearn.metrics import roc_curve, auc , roc_auc_score, confusion_matrix, mean_absolute_error\n",
    "from sklearn import grid_search"
   ]
  },
  {
   "cell_type": "code",
   "execution_count": 9,
   "metadata": {
    "collapsed": false
   },
   "outputs": [
    {
     "name": "stdout",
     "output_type": "stream",
     "text": [
      "(0.6981458278635555, {'Cs': [1], 'penalty': 'l1', 'cv': 3})\n"
     ]
    }
   ],
   "source": [
    "parameters = {'penalty': ['l1', 'l2'], 'cv': [3,5],'Cs':[[1e10],[1e5],[1e2],[1],[1e-2]]}\n",
    "\n",
    "# Create my tree with grid search\n",
    "logistic = grid_search.GridSearchCV(LogisticRegressionCV(solver='liblinear',\n",
    "                                    random_state=1)\n",
    "                                   , parameters, n_jobs=4,\n",
    "                                   scoring='roc_auc',refit=True)\n",
    "\n",
    "logistic.fit(X_train, y_train)\n",
    "best_model = logistic.best_estimator_\n",
    "print (logistic.best_score_, logistic.best_params_) "
   ]
  },
  {
   "cell_type": "code",
   "execution_count": 13,
   "metadata": {
    "collapsed": false
   },
   "outputs": [
    {
     "name": "stdout",
     "output_type": "stream",
     "text": [
      "C=10000000000.00\n",
      " \n",
      "Mean AUC Score with L1 penalty: 0.6999\n",
      " \n",
      "Mean AUC Score with L2 penalty: 0.6767\n",
      "C=100.00\n",
      " \n",
      "Mean AUC Score with L1 penalty: 0.7001\n",
      " \n",
      "Mean AUC Score with L2 penalty: 0.6788\n",
      "C=1.00\n",
      " \n",
      "Mean AUC Score with L1 penalty: 0.6995\n",
      " \n",
      "Mean AUC Score with L2 penalty: 0.6798\n",
      "The average AUC score for for L1 Penalty is 0.699848385146\n",
      "The average AUC score for for L2 Penalty is 0.678427651865\n",
      " \n",
      "[0.69986704539762778, 0.7001337419617123, 0.69954436807745723]\n",
      " \n",
      "[0.67665684808233595, 0.67878695418564561, 0.67983915332553735]\n",
      " \n",
      "0:01:03.429808\n"
     ]
    }
   ],
   "source": [
    "# Fitting a standard logistic regression model\n",
    "# C is a cutoff for coefficients. The higher it is, the less the amount of regularisation. \n",
    "# So we set it very high first which is equivalent to no regularisation\n",
    "# def __logreg__(n):\n",
    "from datetime import datetime\n",
    "startTime = datetime.now()\n",
    "\n",
    "n=5\n",
    "AUC1 = []\n",
    "AUC2 = []\n",
    "for i , C in enumerate((1e10,1e2,1)):\n",
    "    c = int(C)\n",
    "    # Turn down tolerance iteratively. Lower tolerance means increased chance of zero coefficients\n",
    "    # L1 and L2 setup\n",
    "    logreg1 = LogisticRegressionCV(Cs=[C],cv=n,penalty='l1',solver='liblinear',scoring='roc_auc',random_state=seed) \n",
    "    logreg2 = LogisticRegressionCV(Cs=[c],cv=n,penalty='l2',scoring='roc_auc',random_state=seed)\n",
    "    # fit the models\n",
    "    logreg1.fit(X, y)\n",
    "    logreg2.fit(X, y)\n",
    "    # Calculate the mean roc_auc score\n",
    "    score1 = logreg1.scores_\n",
    "    score2 = logreg2.scores_\n",
    "    \n",
    "    meanval1 = sum(score1.values()[0])/float(len(score1.values()[0]))\n",
    "    meanval2 = sum(score2.values()[0])/float(len(score2.values()[0]))\n",
    "    \n",
    "    print \"C=%.2f\" % C\n",
    "    print \" \"\n",
    "    print \"Mean AUC Score with L1 penalty: %.4f\" % meanval1[0]\n",
    "    print \" \"\n",
    "    print \"Mean AUC Score with L2 penalty: %.4f\" % meanval2[0]\n",
    "        \n",
    "    AUC1.append(meanval1[0])\n",
    "    AUC2.append(meanval2[0])\n",
    "    \n",
    "\n",
    "\n",
    "print \"The average AUC score for for L1 Penalty is\" , np.mean(AUC1)\n",
    "print \"The average AUC score for for L2 Penalty is\" , np.mean(AUC2)\n",
    "print \" \" \n",
    "print AUC1\n",
    "print \" \"\n",
    "print AUC2\n",
    "print \" \"\n",
    "print datetime.now() - startTime\n"
   ]
  },
  {
   "cell_type": "markdown",
   "metadata": {},
   "source": [
    "## Evaluation\n",
    "\n",
    "As one can see from the results of the cross validated logistic regression models, their performance results are quite poor. There is also negligible difference between the the AUC scores when comparing the L1 and L2 regularisation. Indeed given the small number of variables, any regularisation would more than likely degrade the model fit. The best AUC score we were able to obtain under 5 fold cross validation was 0.7 . Which as a first model is probably not half bad. It does however indicate the likely non-linear structure of our data. \n",
    "\n",
    "Any models produced from now on will not include explicit regularisation. \n",
    "\n",
    "## AUC L1 = 0.6996\n",
    "## AUC L2 = 0.6786"
   ]
  },
  {
   "cell_type": "code",
   "execution_count": 10,
   "metadata": {
    "collapsed": true
   },
   "outputs": [],
   "source": [
    "# Predict the test set\n",
    "# import the test data\n",
    "test = pd.read_csv('../DATA/test.csv', index_col='idx')"
   ]
  },
  {
   "cell_type": "code",
   "execution_count": 11,
   "metadata": {
    "collapsed": true
   },
   "outputs": [],
   "source": [
    "X_ = test.iloc[:, 1:]"
   ]
  },
  {
   "cell_type": "code",
   "execution_count": 12,
   "metadata": {
    "collapsed": false
   },
   "outputs": [],
   "source": [
    "logreg_ = LogisticRegressionCV(Cs=[100],cv=5,penalty='l1',solver='liblinear',scoring='roc_auc',random_state=seed) \n",
    "\n",
    "logreg_.fit(X, y)\n",
    "\n",
    "logreg_.predict(X_)\n",
    "\n",
    "logreg_preds = logreg_.predict_proba(X_)[:, 1]\n",
    "\n",
    "df = pd.DataFrame(logreg_preds)\n",
    "\n",
    "# df.to_csv('../OUTPUT/preds_2.csv')"
   ]
  },
  {
   "cell_type": "markdown",
   "metadata": {},
   "source": [
    "## Outcome of Private Score Submission: AUC = 0.697912"
   ]
  }
 ],
 "metadata": {
  "kernelspec": {
   "display_name": "Python 2",
   "language": "python",
   "name": "python2"
  },
  "language_info": {
   "codemirror_mode": {
    "name": "ipython",
    "version": 2
   },
   "file_extension": ".py",
   "mimetype": "text/x-python",
   "name": "python",
   "nbconvert_exporter": "python",
   "pygments_lexer": "ipython2",
   "version": "2.7.11"
  }
 },
 "nbformat": 4,
 "nbformat_minor": 0
}
