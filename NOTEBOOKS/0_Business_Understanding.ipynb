{
 "cells": [
  {
   "cell_type": "markdown",
   "metadata": {},
   "source": [
    "# Business Understanding\n",
    "\n",
    "***\n",
    "\n",
    "One of the key functions of the bank is to facilitate the allocation of capital in todays Market Economies. Traditional banks will accept deposits and write loans, either on business or personal lines. They decide who can get finance and on what terms. Banks thus have great power and the decisions they make are often with a view of maintaining finanical market sustainability.\n",
    "\n",
    "For markets and society to function, individuals and companies need access to credit. \n",
    "\n",
    "Credit scoring algorithms, which make a guess at the probability of default, are the method banks use to determine whether or not a loan should be granted. They often vary in levels of sophistication. As seen in the global finanical crisis, access to credit was without barrier in many jurisdictions of the United States. In addition, modelling frameworks did not account for the high levels of correlation in deliquencies, leading to even the \"safest\" tranches of financial instrustments (CDOs) required only a small percentage of deliquencies to trigger a wholesale collapse in the value of the portfolio of loans backing the derivative investment vehicles.\n",
    "\n",
    "The following data science project will attempt to produce a variety of models in order to come up with an prediction of the probability of finanical stress over the next two years.\n",
    "\n",
    "Some predictive techniques which will invariably produced biased predictions. Often the methods we employ to gain a better prediction will lack interpretability, whereas the methods we employ to gain a higher level of interpretation will be biased. This tradeoff will be accessed and the model chosen will be one that maximises the area under the curve under.\n",
    "\n",
    "Proposed Techniques:\n",
    "- Logistic Regression (with and without regularisation)\n",
    "- Linear Discriminant Analysis\n",
    "- Classification and Regression Trees and Multivariate Adaptive Regression Splines\n",
    "- Boosting methods (Random Forests and Gradient Boosting)\n",
    "- Support Vector Machines\n",
    "- Neural Networks"
   ]
  }
 ],
 "metadata": {
  "kernelspec": {
   "display_name": "Python 2",
   "language": "python",
   "name": "python2"
  },
  "language_info": {
   "codemirror_mode": {
    "name": "ipython",
    "version": 2
   },
   "file_extension": ".py",
   "mimetype": "text/x-python",
   "name": "python",
   "nbconvert_exporter": "python",
   "pygments_lexer": "ipython2",
   "version": "2.7.11"
  }
 },
 "nbformat": 4,
 "nbformat_minor": 0
}
