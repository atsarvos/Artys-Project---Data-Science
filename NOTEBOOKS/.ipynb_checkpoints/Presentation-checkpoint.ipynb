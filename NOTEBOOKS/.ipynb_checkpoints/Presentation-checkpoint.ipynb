{
 "cells": [
  {
   "cell_type": "markdown",
   "metadata": {},
   "source": [
    "![Image](../OUTPUT/compimage.png)\n"
   ]
  },
  {
   "cell_type": "markdown",
   "metadata": {},
   "source": [
    "<h1 style=\"text-align: center;\" markdown=\"1\">Data Science Presentation: Give Me Some Credit</h1>"
   ]
  },
  {
   "cell_type": "markdown",
   "metadata": {},
   "source": [
    "## ***The Brief:***\n",
    "\n",
    "### Improve on the state of the art in credit scoring by predicting the probability that somebody will experience financial distress in the next two years\n",
    "\n",
    "* ** Prize pool was `$5,000` (`$3,000` for first, `$1,500` for second and `$500` for third) **\n",
    "* **Winner of the competition was *Perfect Storm* **\n"
   ]
  },
  {
   "cell_type": "markdown",
   "metadata": {},
   "source": [
    "# TO-DO\n",
    "\n",
    "- [ ] Finish off the Brief: Talk about the task that needed to be done   \n",
    "- [ ] Features Section: Brief explaination of the variables\n",
    "- [ ] Models considered\n",
    "- [ ] Results - Include the full codes run on EC2\n",
    "- [ ] For improvement "
   ]
  }
 ],
 "metadata": {
  "kernelspec": {
   "display_name": "Python 2",
   "language": "python",
   "name": "python2"
  },
  "language_info": {
   "codemirror_mode": {
    "name": "ipython",
    "version": 2
   },
   "file_extension": ".py",
   "mimetype": "text/x-python",
   "name": "python",
   "nbconvert_exporter": "python",
   "pygments_lexer": "ipython2",
   "version": "2.7.11"
  }
 },
 "nbformat": 4,
 "nbformat_minor": 0
}
