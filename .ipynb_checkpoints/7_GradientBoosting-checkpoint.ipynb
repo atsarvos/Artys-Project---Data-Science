{
 "cells": [
  {
   "cell_type": "markdown",
   "metadata": {},
   "source": [
    "# Gradient Boosting"
   ]
  },
  {
   "cell_type": "code",
   "execution_count": 2,
   "metadata": {
    "collapsed": true
   },
   "outputs": [],
   "source": [
    "# Setup Libraries if needed\n",
    "import pandas as pd\n",
    "import sklearn\n",
    "import numpy as np\n",
    "import matplotlib as mpl\n",
    "%matplotlib inline\n",
    "mpl.pyplot.style.use('ggplot')"
   ]
  },
  {
   "cell_type": "code",
   "execution_count": 4,
   "metadata": {
    "collapsed": false
   },
   "outputs": [
    {
     "data": {
      "text/html": [
       "<div>\n",
       "<table border=\"1\" class=\"dataframe\">\n",
       "  <thead>\n",
       "    <tr style=\"text-align: right;\">\n",
       "      <th></th>\n",
       "      <th>SeriousDlqin2yrs</th>\n",
       "      <th>RevolvingUtilizationOfUnsecuredLines</th>\n",
       "      <th>age</th>\n",
       "      <th>NumberOfTime30to59DaysPastDueNotWorse</th>\n",
       "      <th>DebtRatio</th>\n",
       "      <th>MonthlyIncome</th>\n",
       "      <th>NumberOfOpenCreditLinesAndLoans</th>\n",
       "      <th>NumberOfTimes90DaysLate</th>\n",
       "      <th>NumberRealEstateLoansOrLines</th>\n",
       "      <th>NumberOfTime60to89DaysPastDueNotWorse</th>\n",
       "      <th>NumberOfDependents</th>\n",
       "    </tr>\n",
       "    <tr>\n",
       "      <th>idx</th>\n",
       "      <th></th>\n",
       "      <th></th>\n",
       "      <th></th>\n",
       "      <th></th>\n",
       "      <th></th>\n",
       "      <th></th>\n",
       "      <th></th>\n",
       "      <th></th>\n",
       "      <th></th>\n",
       "      <th></th>\n",
       "      <th></th>\n",
       "    </tr>\n",
       "  </thead>\n",
       "  <tbody>\n",
       "    <tr>\n",
       "      <th>1</th>\n",
       "      <td>1</td>\n",
       "      <td>0.766127</td>\n",
       "      <td>45</td>\n",
       "      <td>2</td>\n",
       "      <td>0.802982</td>\n",
       "      <td>9120</td>\n",
       "      <td>13</td>\n",
       "      <td>0</td>\n",
       "      <td>6</td>\n",
       "      <td>0</td>\n",
       "      <td>2</td>\n",
       "    </tr>\n",
       "    <tr>\n",
       "      <th>2</th>\n",
       "      <td>0</td>\n",
       "      <td>0.957151</td>\n",
       "      <td>40</td>\n",
       "      <td>0</td>\n",
       "      <td>0.121876</td>\n",
       "      <td>2600</td>\n",
       "      <td>4</td>\n",
       "      <td>0</td>\n",
       "      <td>0</td>\n",
       "      <td>0</td>\n",
       "      <td>1</td>\n",
       "    </tr>\n",
       "    <tr>\n",
       "      <th>3</th>\n",
       "      <td>0</td>\n",
       "      <td>0.658180</td>\n",
       "      <td>38</td>\n",
       "      <td>1</td>\n",
       "      <td>0.085113</td>\n",
       "      <td>3042</td>\n",
       "      <td>2</td>\n",
       "      <td>1</td>\n",
       "      <td>0</td>\n",
       "      <td>0</td>\n",
       "      <td>0</td>\n",
       "    </tr>\n",
       "    <tr>\n",
       "      <th>4</th>\n",
       "      <td>0</td>\n",
       "      <td>0.233810</td>\n",
       "      <td>30</td>\n",
       "      <td>0</td>\n",
       "      <td>0.036050</td>\n",
       "      <td>3300</td>\n",
       "      <td>5</td>\n",
       "      <td>0</td>\n",
       "      <td>0</td>\n",
       "      <td>0</td>\n",
       "      <td>0</td>\n",
       "    </tr>\n",
       "    <tr>\n",
       "      <th>5</th>\n",
       "      <td>0</td>\n",
       "      <td>0.907239</td>\n",
       "      <td>49</td>\n",
       "      <td>1</td>\n",
       "      <td>0.024926</td>\n",
       "      <td>63588</td>\n",
       "      <td>7</td>\n",
       "      <td>0</td>\n",
       "      <td>1</td>\n",
       "      <td>0</td>\n",
       "      <td>0</td>\n",
       "    </tr>\n",
       "  </tbody>\n",
       "</table>\n",
       "</div>"
      ],
      "text/plain": [
       "     SeriousDlqin2yrs  RevolvingUtilizationOfUnsecuredLines  age  \\\n",
       "idx                                                                \n",
       "1                   1                              0.766127   45   \n",
       "2                   0                              0.957151   40   \n",
       "3                   0                              0.658180   38   \n",
       "4                   0                              0.233810   30   \n",
       "5                   0                              0.907239   49   \n",
       "\n",
       "     NumberOfTime30to59DaysPastDueNotWorse  DebtRatio  MonthlyIncome  \\\n",
       "idx                                                                    \n",
       "1                                        2   0.802982           9120   \n",
       "2                                        0   0.121876           2600   \n",
       "3                                        1   0.085113           3042   \n",
       "4                                        0   0.036050           3300   \n",
       "5                                        1   0.024926          63588   \n",
       "\n",
       "     NumberOfOpenCreditLinesAndLoans  NumberOfTimes90DaysLate  \\\n",
       "idx                                                             \n",
       "1                                 13                        0   \n",
       "2                                  4                        0   \n",
       "3                                  2                        1   \n",
       "4                                  5                        0   \n",
       "5                                  7                        0   \n",
       "\n",
       "     NumberRealEstateLoansOrLines  NumberOfTime60to89DaysPastDueNotWorse  \\\n",
       "idx                                                                        \n",
       "1                               6                                      0   \n",
       "2                               0                                      0   \n",
       "3                               0                                      0   \n",
       "4                               0                                      0   \n",
       "5                               1                                      0   \n",
       "\n",
       "     NumberOfDependents  \n",
       "idx                      \n",
       "1                     2  \n",
       "2                     1  \n",
       "3                     0  \n",
       "4                     0  \n",
       "5                     0  "
      ]
     },
     "execution_count": 4,
     "metadata": {},
     "output_type": "execute_result"
    }
   ],
   "source": [
    "# import the training data\n",
    "training = pd.read_csv('training.csv', index_col='idx')\n",
    "\n",
    "# view the data\n",
    "training.head()"
   ]
  },
  {
   "cell_type": "code",
   "execution_count": 8,
   "metadata": {
    "collapsed": true
   },
   "outputs": [],
   "source": [
    "# Import SciKit Learn functions\n",
    "from sklearn.metrics import roc_curve, auc , roc_auc_score, confusion_matrix, mean_absolute_error\n",
    "from sklearn.ensemble import GradientBoostingClassifier \n",
    "from sklearn.cross_validation import train_test_split\n",
    "from sklearn import grid_search"
   ]
  },
  {
   "cell_type": "code",
   "execution_count": 6,
   "metadata": {
    "collapsed": true
   },
   "outputs": [],
   "source": [
    "# Split the target from the input variables\n",
    "X = training.iloc[:, 1:]\n",
    "y = training.iloc[:, 0]\n",
    "\n",
    "# Now, split the data into training and test sets\n",
    "X_train, X_test, y_train, y_test = train_test_split(X,y, random_state=1)"
   ]
  },
  {
   "cell_type": "code",
   "execution_count": 9,
   "metadata": {
    "collapsed": true
   },
   "outputs": [],
   "source": [
    "GradientBoostingClassifier?"
   ]
  },
  {
   "cell_type": "code",
   "execution_count": 17,
   "metadata": {
    "collapsed": false
   },
   "outputs": [
    {
     "data": {
      "text/plain": [
       "GradientBoostingClassifier(init=None, learning_rate=0.1, loss='deviance',\n",
       "              max_depth=2, max_features='auto', max_leaf_nodes=None,\n",
       "              min_samples_leaf=1, min_samples_split=2,\n",
       "              min_weight_fraction_leaf=0.0, n_estimators=500,\n",
       "              presort='auto', random_state=None, subsample=1.0, verbose=0,\n",
       "              warm_start=False)"
      ]
     },
     "execution_count": 17,
     "metadata": {},
     "output_type": "execute_result"
    }
   ],
   "source": [
    "gbtree = GradientBoostingClassifier(loss='deviance',learning_rate=0.1,n_estimators=500,\n",
    "                                     max_depth=2,\n",
    "                                    max_features = 'auto')\n",
    "\n",
    "gbtree.fit(X_train,y_train)"
   ]
  },
  {
   "cell_type": "code",
   "execution_count": 25,
   "metadata": {
    "collapsed": false
   },
   "outputs": [
    {
     "name": "stdout",
     "output_type": "stream",
     "text": [
      "The area under the curve is 0.866184797529\n"
     ]
    }
   ],
   "source": [
    "gbtree.predict(X_test)\n",
    "\n",
    "tree_preds = gbtree.predict_proba(X_test)[:, 1]\n",
    "\n",
    "# Look at the accuracy metrics\n",
    "print \"The area under the curve is\", roc_auc_score(y_test,tree_preds)\n"
   ]
  },
  {
   "cell_type": "code",
   "execution_count": null,
   "metadata": {
    "collapsed": true
   },
   "outputs": [],
   "source": [
    "from datetime import datetime\n",
    "startTime = datetime.now()\n",
    "\n",
    "parameters = { \n",
    "    'learning_rate': [0.1, 0.01,0.001],\n",
    "    'n_estimators': [500,700,1000,1500,2000,2500,3000],\n",
    "    'max_depth': [1,2]\n",
    "    }\n",
    "\n",
    "gbm = grid_search.GridSearchCV(GradientBoostingClassifier(loss='deviance', max_features = 'auto'), parameters, n_jobs=-1,\n",
    "                                   scoring='roc_auc',refit=True)\n",
    "\n",
    "gbm.fit(X_train, y_train)\n",
    "tree_model = gbm.best_estimator_\n",
    "print (gbm.best_score_, gbm.best_params_) \n",
    "\n",
    "print datetime.now() - startTime"
   ]
  }
 ],
 "metadata": {
  "kernelspec": {
   "display_name": "Python 2",
   "language": "python",
   "name": "python2"
  },
  "language_info": {
   "codemirror_mode": {
    "name": "ipython",
    "version": 2
   },
   "file_extension": ".py",
   "mimetype": "text/x-python",
   "name": "python",
   "nbconvert_exporter": "python",
   "pygments_lexer": "ipython2",
   "version": "2.7.11"
  }
 },
 "nbformat": 4,
 "nbformat_minor": 0
}
